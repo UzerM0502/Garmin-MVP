{
 "cells": [
  {
   "cell_type": "code",
   "execution_count": null,
   "id": "3e0e44df",
   "metadata": {},
   "outputs": [
    {
     "data": {
      "text/plain": [
       "True"
      ]
     },
     "execution_count": 1,
     "metadata": {},
     "output_type": "execute_result"
    }
   ],
   "source": [
    "from langchain.utilities import SQLDatabase\n",
    "from langchain.llms import OpenAI\n",
    "from langchain.agents import create_sql_agent, create_react_agent\n",
    "from langchain.agents.agent_toolkits import SQLDatabaseToolkit\n",
    "from langchain.agents.agent_types import AgentType\n",
    "from langchain.chat_models import init_chat_model\n",
    "import os\n",
    "from dotenv import load_dotenv\n",
    "\n",
    "load_dotenv() \n",
    "\n",
    "\n"
   ]
  },
  {
   "cell_type": "code",
   "execution_count": 2,
   "id": "3ad0e1e3",
   "metadata": {},
   "outputs": [],
   "source": [
    "db = SQLDatabase.from_uri(\"sqlite:////Users/uzermughal/Documents/mvp garmin/garmin_data.db\")\n",
    "llm = init_chat_model(\"gemini-2.0-flash\", model_provider=\"google_genai\")\n"
   ]
  },
  {
   "cell_type": "code",
   "execution_count": 3,
   "id": "955e9d2d",
   "metadata": {},
   "outputs": [],
   "source": [
    "from langchain_community.agent_toolkits.sql.toolkit import SQLDatabaseToolkit\n",
    "\n",
    "toolkit = SQLDatabaseToolkit(db=db, llm=llm)"
   ]
  },
  {
   "cell_type": "code",
   "execution_count": 4,
   "id": "aee5f67f",
   "metadata": {},
   "outputs": [],
   "source": [
    "sql_agent = create_sql_agent(\n",
    "    llm=llm,\n",
    "    toolkit=SQLDatabaseToolkit(db=db, llm=llm),\n",
    "    verbose=True,\n",
    "    agent_type=AgentType.ZERO_SHOT_REACT_DESCRIPTION,\n",
    ")"
   ]
  },
  {
   "cell_type": "code",
   "execution_count": 5,
   "id": "b312a640",
   "metadata": {},
   "outputs": [
    {
     "name": "stdout",
     "output_type": "stream",
     "text": [
      "\n",
      "\n",
      "\u001b[1m> Entering new SQL Agent Executor chain...\u001b[0m\n",
      "\u001b[32;1m\u001b[1;3mAction: sql_db_list_tables\n",
      "Action Input:\u001b[0m\u001b[38;5;200m\u001b[1;3mactivities_data\u001b[0m\u001b[32;1m\u001b[1;3mI should look at the schema of the activities_data table to see what I can query.\n",
      "Action: sql_db_schema\n",
      "Action Input: activities_data\u001b[0m\u001b[33;1m\u001b[1;3m\n",
      "CREATE TABLE activities_data (\n",
      "\t\"activityId\" INTEGER, \n",
      "\t\"activityName\" TEXT, \n",
      "\t\"aerobicTrainingEffect\" REAL, \n",
      "\t\"aerobicTrainingEffectMessage\" TEXT, \n",
      "\t\"anaerobicTrainingEffect\" REAL, \n",
      "\t\"averageHR\" REAL, \n",
      "\t\"averageRunningCadenceInStepsPerMinute\" REAL, \n",
      "\t\"averageSpeed\" REAL, \n",
      "\t\"beginTimestamp\" INTEGER, \n",
      "\t\"bmrCalories\" REAL, \n",
      "\tcalories REAL, \n",
      "\tdistance REAL, \n",
      "\t\"elevationCorrected\" BOOLEAN, \n",
      "\t\"endTimeGMT\" TEXT, \n",
      "\t\"hrTimeInZone_1\" REAL, \n",
      "\t\"hrTimeInZone_2\" REAL, \n",
      "\t\"hrTimeInZone_3\" REAL, \n",
      "\t\"hrTimeInZone_4\" REAL, \n",
      "\t\"hrTimeInZone_5\" REAL, \n",
      "\t\"maxHR\" REAL, \n",
      "\t\"maxSpeed\" REAL, \n",
      "\t\"moderateIntensityMinutes\" INTEGER, \n",
      "\t\"movingDuration\" REAL, \n",
      "\t\"startTimeGMT\" TEXT, \n",
      "\tsteps INTEGER\n",
      ")\n",
      "\n",
      "/*\n",
      "3 rows from activities_data table:\n",
      "activityId\tactivityName\taerobicTrainingEffect\taerobicTrainingEffectMessage\tanaerobicTrainingEffect\taverageHR\taverageRunningCadenceInStepsPerMinute\taverageSpeed\tbeginTimestamp\tbmrCalories\tcalories\tdistance\televationCorrected\tendTimeGMT\thrTimeInZone_1\thrTimeInZone_2\thrTimeInZone_3\thrTimeInZone_4\thrTimeInZone_5\tmaxHR\tmaxSpeed\tmoderateIntensityMinutes\tmovingDuration\tstartTimeGMT\tsteps\n",
      "19282789832\tStrength\t0.30000001192092896\tNO_AEROBIC_BENEFIT_18\t0.0\t95.0\tNone\t0.0\t1748630216000\t47.0\t157.0\t0.0\tFalse\t2025-05-30 19:08:36\t703.359\t34.004\t0.0\t0.0\t0.0\t125.0\tNone\t19\t566.6430053710938\t2025-05-30 18:36:56\t254\n",
      "19273795293\tHammersmith and Fulham Soccer/Football\t3.200000047683716\tIMPROVING_AEROBIC_BASE_8\t3.0999999046325684\t145.0\t45.1875\t1.5319999456405642\t1748543442000\t36.0\t304.0\t2249.68994140625\tFalse\t2025-05-29 19:58:29\t154.976\t339.58\t510.201\t446.974\t17.0\t187.0\t6.111999988555908\t2\t1253.0\t2025-05-29 18:30:42\t2282\n",
      "19253569698\tStrength\t0.30000001192092896\tNO_AEROBIC_BENEFIT_18\t0.0\t96.0\tNone\t0.0\t1748373500000\t46.0\t162.0\t0.0\tFalse\t2025-05-27 19:49:57\t697.202\t109.871\t0.0\t0.0\t0.0\t135.0\tNone\t16\t654.3469848632812\t2025-05-27 19:18:20\t228\n",
      "*/\u001b[0m\u001b[32;1m\u001b[1;3mI need to find the most popular activity and the count of each activity. I can use a GROUP BY clause to count the occurrences of each activityName and then order the results to find the most frequent one.\n",
      "Action: sql_db_query_checker\n",
      "Action Input: SELECT activityName, COUNT(*) AS count FROM activities_data GROUP BY activityName ORDER BY count DESC LIMIT 10\u001b[0m\u001b[36;1m\u001b[1;3m```sql\n",
      "SELECT activityName, COUNT(*) AS count FROM activities_data GROUP BY activityName ORDER BY count DESC LIMIT 10\n",
      "```\u001b[0m\u001b[32;1m\u001b[1;3m```sql\n",
      "SELECT activityName, COUNT(*) AS count FROM activities_data GROUP BY activityName ORDER BY count DESC LIMIT 10\n",
      "``` looks correct. I will now execute this query.\n",
      "Action: sql_db_query\n",
      "Action Input: SELECT activityName, COUNT(*) AS count FROM activities_data GROUP BY activityName ORDER BY count DESC LIMIT 10\u001b[0m\u001b[36;1m\u001b[1;3m[('Strength', 12), ('Kingston upon Thames Soccer/Football', 5), ('Wandsworth Soccer/Football', 3), ('Lambeth Running', 2), ('Wandsworth Running', 1), ('Mole Valley Hiking', 1), ('Mixed Martial Arts', 1), ('Lambeth - Recovery', 1), ('Hammersmith and Fulham Soccer/Football', 1), ('Cricket', 1)]\u001b[0m\u001b[32;1m\u001b[1;3mThe most popular activity is Strength, with 12 occurrences.\n",
      "Final Answer: The most popular activity is Strength, and it has been done 12 times. Other activities include Kingston upon Thames Soccer/Football (5), Wandsworth Soccer/Football (3), Lambeth Running (2), and several activities done once.\u001b[0m\n",
      "\n",
      "\u001b[1m> Finished chain.\u001b[0m\n"
     ]
    },
    {
     "data": {
      "text/plain": [
       "{'input': 'what is my most popular activity and how many have I done of each ',\n",
       " 'output': 'The most popular activity is Strength, and it has been done 12 times. Other activities include Kingston upon Thames Soccer/Football (5), Wandsworth Soccer/Football (3), Lambeth Running (2), and several activities done once.'}"
      ]
     },
     "execution_count": 5,
     "metadata": {},
     "output_type": "execute_result"
    }
   ],
   "source": [
    "sql_agent.invoke('what is my most popular activity and how many have I done of each ')"
   ]
  },
  {
   "cell_type": "code",
   "execution_count": 6,
   "id": "6f4c2cba",
   "metadata": {},
   "outputs": [],
   "source": [
    "from langchain_tavily import TavilySearch\n",
    "\n",
    "os.environ['TAVILY_API_KEY'] = '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'\n",
    "web_search = TavilySearch(max_results=3)\n",
    "\n",
    "\n"
   ]
  },
  {
   "cell_type": "code",
   "execution_count": 17,
   "id": "a015cfc5",
   "metadata": {},
   "outputs": [
    {
     "ename": "AttributeError",
     "evalue": "'str' object has no attribute 'input_variables'",
     "output_type": "error",
     "traceback": [
      "\u001b[31m---------------------------------------------------------------------------\u001b[39m",
      "\u001b[31mAttributeError\u001b[39m                            Traceback (most recent call last)",
      "\u001b[36mCell\u001b[39m\u001b[36m \u001b[39m\u001b[32mIn[17]\u001b[39m\u001b[32m, line 14\u001b[39m\n\u001b[32m      1\u001b[39m \u001b[38;5;28;01mfrom\u001b[39;00m\u001b[38;5;250m \u001b[39m\u001b[34;01mlangchain\u001b[39;00m\u001b[34;01m.\u001b[39;00m\u001b[34;01mprompts\u001b[39;00m\u001b[38;5;250m \u001b[39m\u001b[38;5;28;01mimport\u001b[39;00m PromptTemplate\n\u001b[32m      3\u001b[39m prompt = (\n\u001b[32m      4\u001b[39m         \u001b[33m\"\u001b[39m\u001b[33mYou are an expert, AI-powered Personal Trainer Agent, designed to help users reach their fitness and health goals. \u001b[39m\u001b[33m\"\u001b[39m\n\u001b[32m      5\u001b[39m         \u001b[33m\"\u001b[39m\u001b[33mYou work alongside a SQL Data Analyst Agent who retrieves and analyzes structured data from the user\u001b[39m\u001b[33m'\u001b[39m\u001b[33ms health and fitness database. \u001b[39m\u001b[33m\"\u001b[39m\n\u001b[32m   (...)\u001b[39m\u001b[32m     10\u001b[39m         \u001b[33m\"\u001b[39m\u001b[33m- Respond ONLY with the results of your work, do NOT include ANY other text.\u001b[39m\u001b[38;5;130;01m\\n\u001b[39;00m\u001b[38;5;130;01m\\n\u001b[39;00m\u001b[33m\"\u001b[39m\n\u001b[32m     11\u001b[39m     )\n\u001b[32m---> \u001b[39m\u001b[32m14\u001b[39m personal_trainer_agent = \u001b[43mcreate_react_agent\u001b[49m\u001b[43m(\u001b[49m\n\u001b[32m     15\u001b[39m \u001b[43m    \u001b[49m\u001b[43mllm\u001b[49m\u001b[43m=\u001b[49m\u001b[43mllm\u001b[49m\u001b[43m,\u001b[49m\n\u001b[32m     16\u001b[39m \u001b[43m    \u001b[49m\u001b[43mtools\u001b[49m\u001b[43m=\u001b[49m\u001b[43m[\u001b[49m\u001b[43mweb_search\u001b[49m\u001b[43m]\u001b[49m\u001b[43m,\u001b[49m\n\u001b[32m     17\u001b[39m \u001b[43m    \u001b[49m\u001b[43mprompt\u001b[49m\u001b[43m=\u001b[49m\u001b[43mprompt\u001b[49m\u001b[43m,\u001b[49m\n\u001b[32m     18\u001b[39m \u001b[43m    \u001b[49m\u001b[38;5;66;43;03m# name=\"personal_trainer_agent\",\u001b[39;49;00m\n\u001b[32m     19\u001b[39m \u001b[43m    \u001b[49m\u001b[43m)\u001b[49m\n",
      "\u001b[36mFile \u001b[39m\u001b[32m~/opt/anaconda3/envs/gamrindev/lib/python3.13/site-packages/langchain/agents/react/agent.py:121\u001b[39m, in \u001b[36mcreate_react_agent\u001b[39m\u001b[34m(llm, tools, prompt, output_parser, tools_renderer, stop_sequence)\u001b[39m\n\u001b[32m     17\u001b[39m \u001b[38;5;28;01mdef\u001b[39;00m\u001b[38;5;250m \u001b[39m\u001b[34mcreate_react_agent\u001b[39m(\n\u001b[32m     18\u001b[39m     llm: BaseLanguageModel,\n\u001b[32m     19\u001b[39m     tools: Sequence[BaseTool],\n\u001b[32m   (...)\u001b[39m\u001b[32m     24\u001b[39m     stop_sequence: Union[\u001b[38;5;28mbool\u001b[39m, \u001b[38;5;28mlist\u001b[39m[\u001b[38;5;28mstr\u001b[39m]] = \u001b[38;5;28;01mTrue\u001b[39;00m,\n\u001b[32m     25\u001b[39m ) -> Runnable:\n\u001b[32m     26\u001b[39m \u001b[38;5;250m    \u001b[39m\u001b[33;03m\"\"\"Create an agent that uses ReAct prompting.\u001b[39;00m\n\u001b[32m     27\u001b[39m \n\u001b[32m     28\u001b[39m \u001b[33;03m    Based on paper \"ReAct: Synergizing Reasoning and Acting in Language Models\"\u001b[39;00m\n\u001b[32m   (...)\u001b[39m\u001b[32m    118\u001b[39m \u001b[33;03m            prompt = PromptTemplate.from_template(template)\u001b[39;00m\n\u001b[32m    119\u001b[39m \u001b[33;03m    \"\"\"\u001b[39;00m  \u001b[38;5;66;03m# noqa: E501\u001b[39;00m\n\u001b[32m    120\u001b[39m     missing_vars = {\u001b[33m\"\u001b[39m\u001b[33mtools\u001b[39m\u001b[33m\"\u001b[39m, \u001b[33m\"\u001b[39m\u001b[33mtool_names\u001b[39m\u001b[33m\"\u001b[39m, \u001b[33m\"\u001b[39m\u001b[33magent_scratchpad\u001b[39m\u001b[33m\"\u001b[39m}.difference(\n\u001b[32m--> \u001b[39m\u001b[32m121\u001b[39m         \u001b[43mprompt\u001b[49m\u001b[43m.\u001b[49m\u001b[43minput_variables\u001b[49m + \u001b[38;5;28mlist\u001b[39m(prompt.partial_variables),\n\u001b[32m    122\u001b[39m     )\n\u001b[32m    123\u001b[39m     \u001b[38;5;28;01mif\u001b[39;00m missing_vars:\n\u001b[32m    124\u001b[39m         msg = \u001b[33mf\u001b[39m\u001b[33m\"\u001b[39m\u001b[33mPrompt missing required variables: \u001b[39m\u001b[38;5;132;01m{\u001b[39;00mmissing_vars\u001b[38;5;132;01m}\u001b[39;00m\u001b[33m\"\u001b[39m\n",
      "\u001b[31mAttributeError\u001b[39m: 'str' object has no attribute 'input_variables'"
     ]
    }
   ],
   "source": [
    "from langchain.prompts import PromptTemplate\n",
    "\n",
    "prompt = (\n",
    "        \"You are an expert, AI-powered Personal Trainer Agent, designed to help users reach their fitness and health goals. \"\n",
    "        \"You work alongside a SQL Data Analyst Agent who retrieves and analyzes structured data from the user's health and fitness database. \"\n",
    "        \"You specialize in translating data and insights into actionable, personalized fitness coaching.\\n\\n\"\n",
    "        \"INSTRUCTIONS:\\n\"\n",
    "        \"- Assist ONLY with personal trainer related tasks, DO NOT do any analysis\\n\"\n",
    "        \"- After you're done with your tasks, respond to the supervisor directly\\n\"\n",
    "        \"- Respond ONLY with the results of your work, do NOT include ANY other text.\\n\\n\"\n",
    "    )\n",
    "\n",
    "\n",
    "personal_trainer_agent = create_react_agent(\n",
    "    llm=llm,\n",
    "    tools=[web_search],\n",
    "    prompt=prompt,\n",
    "    # name=\"personal_trainer_agent\",\n",
    "    )"
   ]
  },
  {
   "cell_type": "code",
   "execution_count": 13,
   "id": "7a152650",
   "metadata": {},
   "outputs": [
    {
     "ename": "AttributeError",
     "evalue": "'TavilySearch' object has no attribute 'input_variables'",
     "output_type": "error",
     "traceback": [
      "\u001b[31m---------------------------------------------------------------------------\u001b[39m",
      "\u001b[31mAttributeError\u001b[39m                            Traceback (most recent call last)",
      "\u001b[36mCell\u001b[39m\u001b[36m \u001b[39m\u001b[32mIn[13]\u001b[39m\u001b[32m, line 1\u001b[39m\n\u001b[32m----> \u001b[39m\u001b[32m1\u001b[39m agent_executor = \u001b[43mcreate_react_agent\u001b[49m\u001b[43m(\u001b[49m\u001b[43mllm\u001b[49m\u001b[43m,\u001b[49m\u001b[43mprompt\u001b[49m\u001b[43m,\u001b[49m\u001b[43m \u001b[49m\u001b[43mweb_search\u001b[49m\u001b[43m)\u001b[49m\n",
      "\u001b[36mFile \u001b[39m\u001b[32m~/opt/anaconda3/envs/gamrindev/lib/python3.13/site-packages/langchain/agents/react/agent.py:121\u001b[39m, in \u001b[36mcreate_react_agent\u001b[39m\u001b[34m(llm, tools, prompt, output_parser, tools_renderer, stop_sequence)\u001b[39m\n\u001b[32m     17\u001b[39m \u001b[38;5;28;01mdef\u001b[39;00m\u001b[38;5;250m \u001b[39m\u001b[34mcreate_react_agent\u001b[39m(\n\u001b[32m     18\u001b[39m     llm: BaseLanguageModel,\n\u001b[32m     19\u001b[39m     tools: Sequence[BaseTool],\n\u001b[32m   (...)\u001b[39m\u001b[32m     24\u001b[39m     stop_sequence: Union[\u001b[38;5;28mbool\u001b[39m, \u001b[38;5;28mlist\u001b[39m[\u001b[38;5;28mstr\u001b[39m]] = \u001b[38;5;28;01mTrue\u001b[39;00m,\n\u001b[32m     25\u001b[39m ) -> Runnable:\n\u001b[32m     26\u001b[39m \u001b[38;5;250m    \u001b[39m\u001b[33;03m\"\"\"Create an agent that uses ReAct prompting.\u001b[39;00m\n\u001b[32m     27\u001b[39m \n\u001b[32m     28\u001b[39m \u001b[33;03m    Based on paper \"ReAct: Synergizing Reasoning and Acting in Language Models\"\u001b[39;00m\n\u001b[32m   (...)\u001b[39m\u001b[32m    118\u001b[39m \u001b[33;03m            prompt = PromptTemplate.from_template(template)\u001b[39;00m\n\u001b[32m    119\u001b[39m \u001b[33;03m    \"\"\"\u001b[39;00m  \u001b[38;5;66;03m# noqa: E501\u001b[39;00m\n\u001b[32m    120\u001b[39m     missing_vars = {\u001b[33m\"\u001b[39m\u001b[33mtools\u001b[39m\u001b[33m\"\u001b[39m, \u001b[33m\"\u001b[39m\u001b[33mtool_names\u001b[39m\u001b[33m\"\u001b[39m, \u001b[33m\"\u001b[39m\u001b[33magent_scratchpad\u001b[39m\u001b[33m\"\u001b[39m}.difference(\n\u001b[32m--> \u001b[39m\u001b[32m121\u001b[39m         \u001b[43mprompt\u001b[49m\u001b[43m.\u001b[49m\u001b[43minput_variables\u001b[49m + \u001b[38;5;28mlist\u001b[39m(prompt.partial_variables),\n\u001b[32m    122\u001b[39m     )\n\u001b[32m    123\u001b[39m     \u001b[38;5;28;01mif\u001b[39;00m missing_vars:\n\u001b[32m    124\u001b[39m         msg = \u001b[33mf\u001b[39m\u001b[33m\"\u001b[39m\u001b[33mPrompt missing required variables: \u001b[39m\u001b[38;5;132;01m{\u001b[39;00mmissing_vars\u001b[38;5;132;01m}\u001b[39;00m\u001b[33m\"\u001b[39m\n",
      "\u001b[36mFile \u001b[39m\u001b[32m~/opt/anaconda3/envs/gamrindev/lib/python3.13/site-packages/pydantic/main.py:991\u001b[39m, in \u001b[36mBaseModel.__getattr__\u001b[39m\u001b[34m(self, item)\u001b[39m\n\u001b[32m    988\u001b[39m     \u001b[38;5;28;01mreturn\u001b[39;00m \u001b[38;5;28msuper\u001b[39m().\u001b[34m__getattribute__\u001b[39m(item)  \u001b[38;5;66;03m# Raises AttributeError if appropriate\u001b[39;00m\n\u001b[32m    989\u001b[39m \u001b[38;5;28;01melse\u001b[39;00m:\n\u001b[32m    990\u001b[39m     \u001b[38;5;66;03m# this is the current error\u001b[39;00m\n\u001b[32m--> \u001b[39m\u001b[32m991\u001b[39m     \u001b[38;5;28;01mraise\u001b[39;00m \u001b[38;5;167;01mAttributeError\u001b[39;00m(\u001b[33mf\u001b[39m\u001b[33m'\u001b[39m\u001b[38;5;132;01m{\u001b[39;00m\u001b[38;5;28mtype\u001b[39m(\u001b[38;5;28mself\u001b[39m).\u001b[34m__name__\u001b[39m\u001b[38;5;132;01m!r}\u001b[39;00m\u001b[33m object has no attribute \u001b[39m\u001b[38;5;132;01m{\u001b[39;00mitem\u001b[38;5;132;01m!r}\u001b[39;00m\u001b[33m'\u001b[39m)\n",
      "\u001b[31mAttributeError\u001b[39m: 'TavilySearch' object has no attribute 'input_variables'"
     ]
    }
   ],
   "source": [
    "agent_executor = create_react_agent(llm,prompt, web_search)\n"
   ]
  },
  {
   "cell_type": "code",
   "execution_count": null,
   "id": "cf949d9b",
   "metadata": {},
   "outputs": [
    {
     "ename": "ValueError",
     "evalue": "Please specify a name when you create your agent, either via `create_react_agent(..., name=agent_name)` or via `graph.compile(name=name)`.",
     "output_type": "error",
     "traceback": [
      "\u001b[31m---------------------------------------------------------------------------\u001b[39m",
      "\u001b[31mValueError\u001b[39m                                Traceback (most recent call last)",
      "\u001b[36mCell\u001b[39m\u001b[36m \u001b[39m\u001b[32mIn[58]\u001b[39m\u001b[32m, line 3\u001b[39m\n\u001b[32m      1\u001b[39m \u001b[38;5;28;01mfrom\u001b[39;00m\u001b[38;5;250m \u001b[39m\u001b[34;01mlanggraph_supervisor\u001b[39;00m\u001b[38;5;250m \u001b[39m\u001b[38;5;28;01mimport\u001b[39;00m create_supervisor\n\u001b[32m----> \u001b[39m\u001b[32m3\u001b[39m supervisor = \u001b[43mcreate_supervisor\u001b[49m\u001b[43m(\u001b[49m\n\u001b[32m      4\u001b[39m \u001b[43m    \u001b[49m\u001b[43mmodel\u001b[49m\u001b[43m=\u001b[49m\u001b[43mllm\u001b[49m\u001b[43m,\u001b[49m\n\u001b[32m      5\u001b[39m \u001b[43m    \u001b[49m\u001b[43magents\u001b[49m\u001b[43m=\u001b[49m\u001b[43m[\u001b[49m\u001b[43msql_agent\u001b[49m\u001b[43m,\u001b[49m\u001b[43m \u001b[49m\u001b[43mpersonal_trainer_agent\u001b[49m\u001b[43m]\u001b[49m\u001b[43m,\u001b[49m\n\u001b[32m      6\u001b[39m \u001b[43m    \u001b[49m\u001b[43mprompt\u001b[49m\u001b[43m=\u001b[49m\u001b[43m(\u001b[49m\n\u001b[32m      7\u001b[39m \u001b[43m        \u001b[49m\u001b[33;43m\"\u001b[39;49m\u001b[33;43mYou are a supervisor managing two agents:\u001b[39;49m\u001b[38;5;130;43;01m\\n\u001b[39;49;00m\u001b[33;43m\"\u001b[39;49m\n\u001b[32m      8\u001b[39m \u001b[43m        \u001b[49m\u001b[33;43m\"\u001b[39;49m\u001b[33;43m- a research agent. Assign research-related tasks to this agent\u001b[39;49m\u001b[38;5;130;43;01m\\n\u001b[39;49;00m\u001b[33;43m\"\u001b[39;49m\n\u001b[32m      9\u001b[39m \u001b[43m        \u001b[49m\u001b[33;43m\"\u001b[39;49m\u001b[33;43m- a math agent. Assign math-related tasks to this agent\u001b[39;49m\u001b[38;5;130;43;01m\\n\u001b[39;49;00m\u001b[33;43m\"\u001b[39;49m\n\u001b[32m     10\u001b[39m \u001b[43m        \u001b[49m\u001b[33;43m\"\u001b[39;49m\u001b[33;43mAssign work to one agent at a time, do not call agents in parallel.\u001b[39;49m\u001b[38;5;130;43;01m\\n\u001b[39;49;00m\u001b[33;43m\"\u001b[39;49m\n\u001b[32m     11\u001b[39m \u001b[43m        \u001b[49m\u001b[33;43m\"\u001b[39;49m\u001b[33;43mDo not do any work yourself.\u001b[39;49m\u001b[33;43m\"\u001b[39;49m\n\u001b[32m     12\u001b[39m \u001b[43m    \u001b[49m\u001b[43m)\u001b[49m\u001b[43m,\u001b[49m\n\u001b[32m     13\u001b[39m \u001b[43m    \u001b[49m\u001b[43madd_handoff_back_messages\u001b[49m\u001b[43m=\u001b[49m\u001b[38;5;28;43;01mTrue\u001b[39;49;00m\u001b[43m,\u001b[49m\n\u001b[32m     14\u001b[39m \u001b[43m    \u001b[49m\u001b[43moutput_mode\u001b[49m\u001b[43m=\u001b[49m\u001b[33;43m\"\u001b[39;49m\u001b[33;43mfull_history\u001b[39;49m\u001b[33;43m\"\u001b[39;49m\u001b[43m,\u001b[49m\n\u001b[32m     15\u001b[39m \u001b[43m)\u001b[49m.compile()\n",
      "\u001b[36mFile \u001b[39m\u001b[32m~/opt/anaconda3/envs/gamrindev/lib/python3.13/site-packages/langgraph_supervisor/supervisor.py:373\u001b[39m, in \u001b[36mcreate_supervisor\u001b[39m\u001b[34m(agents, model, tools, prompt, response_format, pre_model_hook, post_model_hook, parallel_tool_calls, state_schema, config_schema, output_mode, add_handoff_messages, handoff_tool_prefix, add_handoff_back_messages, supervisor_name, include_agent_name)\u001b[39m\n\u001b[32m    371\u001b[39m \u001b[38;5;28;01mfor\u001b[39;00m agent \u001b[38;5;129;01min\u001b[39;00m agents:\n\u001b[32m    372\u001b[39m     \u001b[38;5;28;01mif\u001b[39;00m agent.name \u001b[38;5;129;01mis\u001b[39;00m \u001b[38;5;28;01mNone\u001b[39;00m \u001b[38;5;129;01mor\u001b[39;00m agent.name == \u001b[33m\"\u001b[39m\u001b[33mLangGraph\u001b[39m\u001b[33m\"\u001b[39m:\n\u001b[32m--> \u001b[39m\u001b[32m373\u001b[39m         \u001b[38;5;28;01mraise\u001b[39;00m \u001b[38;5;167;01mValueError\u001b[39;00m(\n\u001b[32m    374\u001b[39m             \u001b[33m\"\u001b[39m\u001b[33mPlease specify a name when you create your agent, either via `create_react_agent(..., name=agent_name)` \u001b[39m\u001b[33m\"\u001b[39m\n\u001b[32m    375\u001b[39m             \u001b[33m\"\u001b[39m\u001b[33mor via `graph.compile(name=name)`.\u001b[39m\u001b[33m\"\u001b[39m\n\u001b[32m    376\u001b[39m         )\n\u001b[32m    378\u001b[39m     \u001b[38;5;28;01mif\u001b[39;00m agent.name \u001b[38;5;129;01min\u001b[39;00m agent_names:\n\u001b[32m    379\u001b[39m         \u001b[38;5;28;01mraise\u001b[39;00m \u001b[38;5;167;01mValueError\u001b[39;00m(\n\u001b[32m    380\u001b[39m             \u001b[33mf\u001b[39m\u001b[33m\"\u001b[39m\u001b[33mAgent with name \u001b[39m\u001b[33m'\u001b[39m\u001b[38;5;132;01m{\u001b[39;00magent.name\u001b[38;5;132;01m}\u001b[39;00m\u001b[33m'\u001b[39m\u001b[33m already exists. Agent names must be unique.\u001b[39m\u001b[33m\"\u001b[39m\n\u001b[32m    381\u001b[39m         )\n",
      "\u001b[31mValueError\u001b[39m: Please specify a name when you create your agent, either via `create_react_agent(..., name=agent_name)` or via `graph.compile(name=name)`."
     ]
    }
   ],
   "source": [
    "from langgraph_supervisor import create_supervisor\n",
    "\n",
    "supervisor = create_supervisor(\n",
    "    model=llm,\n",
    "    agents=[sql_agent, personal_trainer_agent],\n",
    "    prompt=(\n",
    "        \"You are a supervisor managing two agents:\\n\"\n",
    "        \"- a research agent. Assign research-related tasks to this agent\\n\"\n",
    "        \"- a math agent. Assign math-related tasks to this agent\\n\"\n",
    "        \"Assign work to one agent at a time, do not call agents in parallel.\\n\"\n",
    "        \"Do not do any work yourself.\"\n",
    "    ),\n",
    "    add_handoff_back_messages=True,\n",
    "    output_mode=\"full_history\",\n",
    ").compile()"
   ]
  },
  {
   "cell_type": "code",
   "execution_count": null,
   "id": "9c06ac63",
   "metadata": {},
   "outputs": [
    {
     "ename": "NameError",
     "evalue": "name 'supervisor' is not defined",
     "output_type": "error",
     "traceback": [
      "\u001b[31m---------------------------------------------------------------------------\u001b[39m",
      "\u001b[31mNameError\u001b[39m                                 Traceback (most recent call last)",
      "\u001b[36mCell\u001b[39m\u001b[36m \u001b[39m\u001b[32mIn[54]\u001b[39m\u001b[32m, line 3\u001b[39m\n\u001b[32m      1\u001b[39m \u001b[38;5;28;01mfrom\u001b[39;00m\u001b[38;5;250m \u001b[39m\u001b[34;01mIPython\u001b[39;00m\u001b[34;01m.\u001b[39;00m\u001b[34;01mdisplay\u001b[39;00m\u001b[38;5;250m \u001b[39m\u001b[38;5;28;01mimport\u001b[39;00m display, Image\n\u001b[32m----> \u001b[39m\u001b[32m3\u001b[39m display(Image(\u001b[43msupervisor\u001b[49m.get_graph().draw_mermaid_png()))\n",
      "\u001b[31mNameError\u001b[39m: name 'supervisor' is not defined"
     ]
    }
   ],
   "source": [
    "from IPython.display import display, Image\n",
    "\n",
    "display(Image(supervisor.get_graph().draw_mermaid_png()))"
   ]
  },
  {
   "cell_type": "code",
   "execution_count": null,
   "id": "084fdfb3",
   "metadata": {},
   "outputs": [],
   "source": []
  }
 ],
 "metadata": {
  "kernelspec": {
   "display_name": "Python 3",
   "language": "python",
   "name": "python3"
  },
  "language_info": {
   "codemirror_mode": {
    "name": "ipython",
    "version": 3
   },
   "file_extension": ".py",
   "mimetype": "text/x-python",
   "name": "python",
   "nbconvert_exporter": "python",
   "pygments_lexer": "ipython3",
   "version": "3.13.3"
  }
 },
 "nbformat": 4,
 "nbformat_minor": 5
}
